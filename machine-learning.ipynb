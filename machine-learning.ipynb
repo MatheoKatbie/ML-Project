{
 "cells": [
  {
   "cell_type": "markdown",
   "metadata": {},
   "source": [
    "# <a id='toc1_'></a>[Projet Machine Learning avec Scikit-Learn](#toc0_)\n",
    "\n",
    "## <a id='toc1_1_'></a>[I. Introduction](#toc0_)\n",
    "   - Définition du machine learning et son rôle au sein de l'intelligence artificielle\n",
    "   - Importance de la création de modèles pour représenter des phénomènes réels\n",
    "\n",
    "## <a id='toc1_2_'></a>[II. Types d'apprentissage en Machine Learning](#toc0_)\n",
    "   - Apprentissage supervisé \n",
    "      - Définition \n",
    "      - Exemples d'applications \n",
    "      - Algorithmes associés (e.g., régression linéaire, SVM, k-NN) \n",
    "\n",
    "   - Apprentissage non supervisé\n",
    "      - Définition\n",
    "      - Exemples d'applications\n",
    "      - Algorithmes associés (e.g., k-means, ACP, DBSCAN)\n",
    "\n",
    "   - Apprentissage par renforcement\n",
    "      - Définition\n",
    "      - Exemples d'applications\n",
    "      - Algorithmes associés (e.g., Q-learning, DDPG)\n",
    "\n",
    "## <a id='toc1_3_'></a>[III. Algorithmes associés à chaque type d'apprentissage](#toc0_)\n",
    "   - Supervisé\n",
    "      - Régression linéaire\n",
    "         - Principes de fonctionnement\n",
    "         - Utilisation pratique avec scikit-learn\n",
    "      - Support Vector Machines (SVM)\n",
    "         - Principes de fonctionnement\n",
    "         - Utilisation pratique avec scikit-learn\n",
    "      - k-Nearest Neighbors (k-NN)\n",
    "         - Principes de fonctionnement\n",
    "         - Utilisation pratique avec scikit-learn\n",
    "\n",
    "   - Non supervisé\n",
    "      - K-means\n",
    "         - Principes de fonctionnement\n",
    "         - Utilisation pratique avec scikit-learn\n",
    "      - Analyse en composantes principales (ACP)\n",
    "         - Principes de fonctionnement\n",
    "         - Utilisation pratique avec scikit-learn\n",
    "      - DBSCAN\n",
    "         - Principes de fonctionnement\n",
    "         - Utilisation pratique avec scikit-learn\n",
    "\n",
    "   - Par renforcement\n",
    "      - Q-learning\n",
    "         - Principes de fonctionnement\n",
    "         - Utilisation pratique avec scikit-learn\n",
    "      - Deep Deterministic Policy Gradients (DDPG)\n",
    "         - Principes de fonctionnement\n",
    "         - Utilisation pratique avec scikit-learn\n",
    "\n",
    "## <a id='toc1_4_'></a>[IV. Conclusion](#toc0_)\n",
    "   - Récapitulation des types d'apprentissage et des algorithmes\n",
    "   -  Mise en avant des applications concrètes avec scikit-learn\n",
    "   - Perspectives futures et évolutions du domaine du machine learning.\n"
   ]
  },
  {
   "cell_type": "markdown",
   "metadata": {},
   "source": [
    "\n",
    "------------"
   ]
  },
  {
   "cell_type": "markdown",
   "metadata": {},
   "source": [
    "**Table of contents**<a id='toc0_'></a>    \n",
    "- [Projet Machine Learning avec Scikit-Learn](#toc1_)    \n",
    "  - [I. Introduction](#toc1_1_)    \n",
    "  - [II. Types d'apprentissage en Machine Learning](#toc1_2_)    \n",
    "  - [III. Algorithmes associés à chaque type d'apprentissage](#toc1_3_)    \n",
    "  - [IV. Conclusion](#toc1_4_)    \n",
    "  - [Sommaire](#toc1_5_)    \n",
    "  - [I. Introduction](#toc1_6_)    \n",
    "  - [A. Définition du machine learning et son rôle dans l'intelligence artificielle](#toc1_7_)    \n",
    "  - [B. Importance de la création de modèles pour représenter des phénomènes réels](#toc1_8_)    \n",
    "- [II. Types d'apprentissage en Machine Learning](#toc2_)    \n",
    "  - [A. Apprentissage supervisé](#toc2_1_)    \n",
    "  - [B. Apprentissage non supervisé](#toc2_2_)    \n",
    "  - [C. Apprentissage par renforcement](#toc2_3_)    \n",
    "- [III. Algorithmes associés à chaque type d'apprentissage](#toc3_)    \n",
    "  - [A. Supervisé](#toc3_1_)    \n",
    "    - [Régression linéaire](#toc3_1_1_)    \n",
    "    - [Support Vector Machines (SVM)](#toc3_1_2_)    \n",
    "    - [k-Nearest Neighbors (k-NN)](#toc3_1_3_)    \n",
    "  - [B. Non supervisé](#toc3_2_)    \n",
    "    - [K-means](#toc3_2_1_)    \n",
    "    - [Analyse en composantes principales (ACP)](#toc3_2_2_)    \n",
    "    - [DBSCAN](#toc3_2_3_)    \n",
    "  - [C. Par renforcement](#toc3_3_)    \n",
    "    - [Q-learning](#toc3_3_1_)    \n",
    "    - [Deep Deterministic Policy Gradients (DDPG)](#toc3_3_2_)    \n",
    "\n",
    "<!-- vscode-jupyter-toc-config\n",
    "\tnumbering=false\n",
    "\tanchor=true\n",
    "\tflat=false\n",
    "\tminLevel=1\n",
    "\tmaxLevel=6\n",
    "\t/vscode-jupyter-toc-config -->\n",
    "<!-- THIS CELL WILL BE REPLACED ON TOC UPDATE. DO NOT WRITE YOUR TEXT IN THIS CELL -->"
   ]
  },
 {
   "cell_type": "code",
   "execution_count": 23,
   "metadata": {},
   "outputs": [],
   "source": [
    "import sklearn as sk\n",
    "import pandas as pd \n",
    "import numpy as np\n",
    "import seaborn as sns\n",
    "from sklearn.svm import SVC\n",
    "from pydataset import data\n",
    "from sklearn.linear_model import LinearRegression\n",
    "from sklearn.model_selection import train_test_split\n",
    "from sklearn.preprocessing import StandardScaler\n",
    "from sklearn.neighbors import KNeighborsClassifier\n",
    "from sklearn.metrics import classification_report, confusion_matrix\n",
    "from matplotlib import pyplot as plt"
   ]
  },
  {
   "cell_type": "markdown",
   "metadata": {},
   "source": [
    "## <a id='toc1_5_'></a>[Sommaire](#toc0_)\n"
   ]
  },
  {
   "cell_type": "markdown",
   "metadata": {},
   "source": [
    "## <a id='toc1_6_'></a>[I. Introduction](#toc0_)\n",
    "\n",
    "## <a id='toc1_7_'></a>[A. Définition du machine learning et son rôle dans l'intelligence artificielle](#toc0_)\n",
    "\n",
    "Le machine learning, ou apprentissage automatique, est un domaine de l'intelligence artificielle qui vise à développer des algorithmes capables d'apprendre à partir de données. Le machine learning permet de prédire de nouvelles données à partir de données qui lui sont donnés.\n",
    "\n",
    "## <a id='toc1_8_'></a>[B. Importance de la création de modèles pour représenter des phénomènes réels](#toc0_)\n",
    "\n",
    "La création de modèles est au cœur du machine learning. Ces modèles sont des représentations abstraites de phénomènes réels, et leur construction repose sur la capacité des algorithmes à généraliser à partir de données d'entraînement. La qualité des modèles influencera directement la précision et l'efficacité des prédictions ou des classifications effectuées par ces systèmes."
   ]
  },
  {
   "cell_type": "markdown",
   "metadata": {},
   "source": [
    "# <a id='toc2_'></a>[II. Types d'apprentissage en Machine Learning](#toc0_)\n",
    "\n",
    "## <a id='toc2_1_'></a>[A. Apprentissage supervisé](#toc0_)\n",
    "   1. **Définition**\n",
    "      - L'apprentissage supervisé s'inspire des expériences précédentes pour recueillir ou produire des sorties de données.\n",
    "   2. **Exemples d'applications**\n",
    "      - Classification d'images, prédiction de prix, détection de spam.\n",
    "   3. **Algorithmes associés**\n",
    "      - Régression linéaire, Support Vector Machines (SVM), k-Nearest Neighbors (k-NN).\n",
    "\n",
    "## <a id='toc2_2_'></a>[B. Apprentissage non supervisé](#toc0_)\n",
    "   1. **Définition**\n",
    "      - L'apprentissage non supervisé consiste à analyser des données sans étiquettes pour découvrir des modèles ou des structures.\n",
    "   2. **Exemples d'applications**\n",
    "      - Regroupement de clients, réduction de dimension, détection d'anomalies.\n",
    "   3. **Algorithmes associés**\n",
    "      - K-means, Analyse en composantes principales (ACP), DBSCAN.\n",
    "\n",
    "## <a id='toc2_3_'></a>[C. Apprentissage par renforcement](#toc0_)\n",
    "   1. **Définition**\n",
    "      - L'apprentissage par renforcement implique un agent qui prend des actions dans un environnement pour maximiser une récompense cumulée.\n",
    "   2. **Exemples d'applications**\n",
    "      - Jeux, robotique, recommandation de contenus.\n",
    "   3. **Algorithmes associés**\n",
    "      - Q-learning, Deep Deterministic Policy Gradients (DDPG).\n"
   ]
  },
  {
   "cell_type": "markdown",
   "metadata": {},
   "source": [
    "# <a id='toc3_'></a>[III. Algorithmes associés à chaque type d'apprentissage](#toc0_)\n",
    "\n",
    "## <a id='toc3_1_'></a>[A. Supervisé](#toc0_)\n",
    "\n",
    "### <a id='toc3_1_1_'></a>[Régression linéaire](#toc0_)\n",
    "   - **Principes de fonctionnement**\n",
    "     - La régression linéaire cherche à établir une relation linéaire entre la variable dépendante et les variables indépendantes en ajustant une ligne (ou un plan) aux données."
   ]
  },

  {
   "cell_type": "code",
   "execution_count": 3,
   "metadata": {},
   "outputs": [
    {
     "data": {
      "text/html": [
       "<div>\n",
       "<style scoped>\n",
       "    .dataframe tbody tr th:only-of-type {\n",
       "        vertical-align: middle;\n",
       "    }\n",
       "\n",
       "    .dataframe tbody tr th {\n",
       "        vertical-align: top;\n",
       "    }\n",
       "\n",
       "    .dataframe thead th {\n",
       "        text-align: right;\n",
       "    }\n",
       "</style>\n",
       "<table border=\"1\" class=\"dataframe\">\n",
       "  <thead>\n",
       "    <tr style=\"text-align: right;\">\n",
       "      <th></th>\n",
       "      <th>Unnamed: 0</th>\n",
       "      <th>TV</th>\n",
       "      <th>radio</th>\n",
       "      <th>newspaper</th>\n",
       "      <th>sales</th>\n",
       "    </tr>\n",
       "  </thead>\n",
       "  <tbody>\n",
       "    <tr>\n",
       "      <th>0</th>\n",
       "      <td>1</td>\n",
       "      <td>230.1</td>\n",
       "      <td>37.8</td>\n",
       "      <td>69.2</td>\n",
       "      <td>22.1</td>\n",
       "    </tr>\n",
       "    <tr>\n",
       "      <th>1</th>\n",
       "      <td>2</td>\n",
       "      <td>44.5</td>\n",
       "      <td>39.3</td>\n",
       "      <td>45.1</td>\n",
       "      <td>10.4</td>\n",
       "    </tr>\n",
       "    <tr>\n",
       "      <th>2</th>\n",
       "      <td>3</td>\n",
       "      <td>17.2</td>\n",
       "      <td>45.9</td>\n",
       "      <td>69.3</td>\n",
       "      <td>9.3</td>\n",
       "    </tr>\n",
       "    <tr>\n",
       "      <th>3</th>\n",
       "      <td>4</td>\n",
       "      <td>151.5</td>\n",
       "      <td>41.3</td>\n",
       "      <td>58.5</td>\n",
       "      <td>18.5</td>\n",
       "    </tr>\n",
       "    <tr>\n",
       "      <th>4</th>\n",
       "      <td>5</td>\n",
       "      <td>180.8</td>\n",
       "      <td>10.8</td>\n",
       "      <td>58.4</td>\n",
       "      <td>12.9</td>\n",
       "    </tr>\n",
       "  </tbody>\n",
       "</table>\n",
       "</div>"
      ],
      "text/plain": [
       "   Unnamed: 0     TV  radio  newspaper  sales\n",
       "0           1  230.1   37.8       69.2   22.1\n",
       "1           2   44.5   39.3       45.1   10.4\n",
       "2           3   17.2   45.9       69.3    9.3\n",
       "3           4  151.5   41.3       58.5   18.5\n",
       "4           5  180.8   10.8       58.4   12.9"
      ]
     },
     "execution_count": 3,
     "metadata": {},
     "output_type": "execute_result"
    }
   ],
   "source": [
    "# Récupérer data\n",
    "data = pd.read_csv('data/Advertising.csv')\n",
    "\n",
    "# Afficher data\n",
    "data.head()"
   ]
  },
  {
   "cell_type": "code",
   "execution_count": 4,
   "metadata": {},
   "outputs": [
    {
     "data": {
      "text/html": [
       "<div>\n",
       "<style scoped>\n",
       "    .dataframe tbody tr th:only-of-type {\n",
       "        vertical-align: middle;\n",
       "    }\n",
       "\n",
       "    .dataframe tbody tr th {\n",
       "        vertical-align: top;\n",
       "    }\n",
       "\n",
       "    .dataframe thead th {\n",
       "        text-align: right;\n",
       "    }\n",
       "</style>\n",
       "<table border=\"1\" class=\"dataframe\">\n",
       "  <thead>\n",
       "    <tr style=\"text-align: right;\">\n",
       "      <th></th>\n",
       "      <th>TV</th>\n",
       "      <th>radio</th>\n",
       "      <th>newspaper</th>\n",
       "      <th>sales</th>\n",
       "    </tr>\n",
       "  </thead>\n",
       "  <tbody>\n",
       "    <tr>\n",
       "      <th>0</th>\n",
       "      <td>230.1</td>\n",
       "      <td>37.8</td>\n",
       "      <td>69.2</td>\n",
       "      <td>22.1</td>\n",
       "    </tr>\n",
       "    <tr>\n",
       "      <th>1</th>\n",
       "      <td>44.5</td>\n",
       "      <td>39.3</td>\n",
       "      <td>45.1</td>\n",
       "      <td>10.4</td>\n",
       "    </tr>\n",
       "    <tr>\n",
       "      <th>2</th>\n",
       "      <td>17.2</td>\n",
       "      <td>45.9</td>\n",
       "      <td>69.3</td>\n",
       "      <td>9.3</td>\n",
       "    </tr>\n",
       "    <tr>\n",
       "      <th>3</th>\n",
       "      <td>151.5</td>\n",
       "      <td>41.3</td>\n",
       "      <td>58.5</td>\n",
       "      <td>18.5</td>\n",
       "    </tr>\n",
       "    <tr>\n",
       "      <th>4</th>\n",
       "      <td>180.8</td>\n",
       "      <td>10.8</td>\n",
       "      <td>58.4</td>\n",
       "      <td>12.9</td>\n",
       "    </tr>\n",
       "    <tr>\n",
       "      <th>...</th>\n",
       "      <td>...</td>\n",
       "      <td>...</td>\n",
       "      <td>...</td>\n",
       "      <td>...</td>\n",
       "    </tr>\n",
       "    <tr>\n",
       "      <th>195</th>\n",
       "      <td>38.2</td>\n",
       "      <td>3.7</td>\n",
       "      <td>13.8</td>\n",
       "      <td>7.6</td>\n",
       "    </tr>\n",
       "    <tr>\n",
       "      <th>196</th>\n",
       "      <td>94.2</td>\n",
       "      <td>4.9</td>\n",
       "      <td>8.1</td>\n",
       "      <td>9.7</td>\n",
       "    </tr>\n",
       "    <tr>\n",
       "      <th>197</th>\n",
       "      <td>177.0</td>\n",
       "      <td>9.3</td>\n",
       "      <td>6.4</td>\n",
       "      <td>12.8</td>\n",
       "    </tr>\n",
       "    <tr>\n",
       "      <th>198</th>\n",
       "      <td>283.6</td>\n",
       "      <td>42.0</td>\n",
       "      <td>66.2</td>\n",
       "      <td>25.5</td>\n",
       "    </tr>\n",
       "    <tr>\n",
       "      <th>199</th>\n",
       "      <td>232.1</td>\n",
       "      <td>8.6</td>\n",
       "      <td>8.7</td>\n",
       "      <td>13.4</td>\n",
       "    </tr>\n",
       "  </tbody>\n",
       "</table>\n",
       "<p>200 rows × 4 columns</p>\n",
       "</div>"
      ],
      "text/plain": [
       "        TV  radio  newspaper  sales\n",
       "0    230.1   37.8       69.2   22.1\n",
       "1     44.5   39.3       45.1   10.4\n",
       "2     17.2   45.9       69.3    9.3\n",
       "3    151.5   41.3       58.5   18.5\n",
       "4    180.8   10.8       58.4   12.9\n",
       "..     ...    ...        ...    ...\n",
       "195   38.2    3.7       13.8    7.6\n",
       "196   94.2    4.9        8.1    9.7\n",
       "197  177.0    9.3        6.4   12.8\n",
       "198  283.6   42.0       66.2   25.5\n",
       "199  232.1    8.6        8.7   13.4\n",
       "\n",
       "[200 rows x 4 columns]"
      ]
     },
     "execution_count": 4,
     "metadata": {},
     "output_type": "execute_result"
    }
   ],
   "source": [
    "# Supprime la colonne Unnamed: 0\n",
    "data.drop(['Unnamed: 0'], axis=1)"
   ]
  },
  {
   "cell_type": "code",
   "execution_count": 6,
   "metadata": {},
   "outputs": [
    {
     "data": {
      "text/plain": [
       "<matplotlib.collections.PathCollection at 0x2a7039c7b50>"
      ]
     },
     "execution_count": 6,
     "metadata": {},
     "output_type": "execute_result"
    },
    {
     "data": {
      "image/png": "[encoded data removed]",
      "text/plain": [
       "<Figure size 800x400 with 1 Axes>"
      ]
     },
     "metadata": {},
     "output_type": "display_data"
    }
   ],
   "source": [
    "# Visualiser les data (Pubs TV et ventes)\n",
    "plt.figure(figsize=(8, 4))\n",
    "plt.scatter(data['TV'],data['sales'],c='black')"
   ]
  },
  {
   "cell_type": "code",
   "execution_count": 7,
   "metadata": {},
   "outputs": [
    {
     "data": {
      "text/html": [
       "<style>#sk-container-id-1 {color: black;}#sk-container-id-1 pre{padding: 0;}#sk-container-id-1 div.sk-toggleable {background-color: white;}#sk-container-id-1 label.sk-toggleable__label {cursor: pointer;display: block;width: 100%;margin-bottom: 0;padding: 0.3em;box-sizing: border-box;text-align: center;}#sk-container-id-1 label.sk-toggleable__label-arrow:before {content: \"▸\";float: left;margin-right: 0.25em;color: #696969;}#sk-container-id-1 label.sk-toggleable__label-arrow:hover:before {color: black;}#sk-container-id-1 div.sk-estimator:hover label.sk-toggleable__label-arrow:before {color: black;}#sk-container-id-1 div.sk-toggleable__content {max-height: 0;max-width: 0;overflow: hidden;text-align: left;background-color: #f0f8ff;}#sk-container-id-1 div.sk-toggleable__content pre {margin: 0.2em;color: black;border-radius: 0.25em;background-color: #f0f8ff;}#sk-container-id-1 input.sk-toggleable__control:checked~div.sk-toggleable__content {max-height: 200px;max-width: 100%;overflow: auto;}#sk-container-id-1 input.sk-toggleable__control:checked~label.sk-toggleable__label-arrow:before {content: \"▾\";}#sk-container-id-1 div.sk-estimator input.sk-toggleable__control:checked~label.sk-toggleable__label {background-color: #d4ebff;}#sk-container-id-1 div.sk-label input.sk-toggleable__control:checked~label.sk-toggleable__label {background-color: #d4ebff;}#sk-container-id-1 input.sk-hidden--visually {border: 0;clip: rect(1px 1px 1px 1px);clip: rect(1px, 1px, 1px, 1px);height: 1px;margin: -1px;overflow: hidden;padding: 0;position: absolute;width: 1px;}#sk-container-id-1 div.sk-estimator {font-family: monospace;background-color: #f0f8ff;border: 1px dotted black;border-radius: 0.25em;box-sizing: border-box;margin-bottom: 0.5em;}#sk-container-id-1 div.sk-estimator:hover {background-color: #d4ebff;}#sk-container-id-1 div.sk-parallel-item::after {content: \"\";width: 100%;border-bottom: 1px solid gray;flex-grow: 1;}#sk-container-id-1 div.sk-label:hover label.sk-toggleable__label {background-color: #d4ebff;}#sk-container-id-1 div.sk-serial::before {content: \"\";position: absolute;border-left: 1px solid gray;box-sizing: border-box;top: 0;bottom: 0;left: 50%;z-index: 0;}#sk-container-id-1 div.sk-serial {display: flex;flex-direction: column;align-items: center;background-color: white;padding-right: 0.2em;padding-left: 0.2em;position: relative;}#sk-container-id-1 div.sk-item {position: relative;z-index: 1;}#sk-container-id-1 div.sk-parallel {display: flex;align-items: stretch;justify-content: center;background-color: white;position: relative;}#sk-container-id-1 div.sk-item::before, #sk-container-id-1 div.sk-parallel-item::before {content: \"\";position: absolute;border-left: 1px solid gray;box-sizing: border-box;top: 0;bottom: 0;left: 50%;z-index: -1;}#sk-container-id-1 div.sk-parallel-item {display: flex;flex-direction: column;z-index: 1;position: relative;background-color: white;}#sk-container-id-1 div.sk-parallel-item:first-child::after {align-self: flex-end;width: 50%;}#sk-container-id-1 div.sk-parallel-item:last-child::after {align-self: flex-start;width: 50%;}#sk-container-id-1 div.sk-parallel-item:only-child::after {width: 0;}#sk-container-id-1 div.sk-dashed-wrapped {border: 1px dashed gray;margin: 0 0.4em 0.5em 0.4em;box-sizing: border-box;padding-bottom: 0.4em;background-color: white;}#sk-container-id-1 div.sk-label label {font-family: monospace;font-weight: bold;display: inline-block;line-height: 1.2em;}#sk-container-id-1 div.sk-label-container {text-align: center;}#sk-container-id-1 div.sk-container {/* jupyter's `normalize.less` sets `[hidden] { display: none; }` but bootstrap.min.css set `[hidden] { display: none !important; }` so we also need the `!important` here to be able to override the default hidden behavior on the sphinx rendered scikit-learn.org. See: https://github.com/scikit-learn/scikit-learn/issues/21755 */display: inline-block !important;position: relative;}#sk-container-id-1 div.sk-text-repr-fallback {display: none;}</style><div id=\"sk-container-id-1\" class=\"sk-top-container\"><div class=\"sk-text-repr-fallback\"><pre>LinearRegression()</pre><b>In a Jupyter environment, please rerun this cell to show the HTML representation or trust the notebook. <br />On GitHub, the HTML representation is unable to render, please try loading this page with nbviewer.org.</b></div><div class=\"sk-container\" hidden><div class=\"sk-item\"><div class=\"sk-estimator sk-toggleable\"><input class=\"sk-toggleable__control sk-hidden--visually\" id=\"sk-estimator-id-1\" type=\"checkbox\" checked><label for=\"sk-estimator-id-1\" class=\"sk-toggleable__label sk-toggleable__label-arrow\">LinearRegression</label><div class=\"sk-toggleable__content\"><pre>LinearRegression()</pre></div></div></div></div></div>"
      ],
      "text/plain": [
       "LinearRegression()"
      ]
     },
     "execution_count": 7,
     "metadata": {},
     "output_type": "execute_result"
    }
   ],
   "source": [
    "# Générer approximation linéaire\n",
    "X = data['TV'].values.reshape(-1,1)\n",
    "Y = data['sales'].values.reshape(-1,1)  \n",
    "\n",
    "reg = LinearRegression()\n",
    "reg.fit(X, Y)"
   ]
  },
  {
   "cell_type": "code",
   "execution_count": 9,
   "metadata": {},
   "outputs": [
    {
     "data": {
      "image/png": "[encoded data removed]",
      "text/plain": [
       "<Figure size 800x400 with 1 Axes>"
      ]
     },
     "metadata": {},
     "output_type": "display_data"
    }
   ],
   "source": [
    "# Visualisation du résultat\n",
    "predictions = reg.predict(X)\n",
    "plt.figure(figsize=(8, 4))\n",
    "plt.scatter(data['TV'],data['sales'],c='black')\n",
    "plt.plot(data['TV'],predictions,c='blue',linewidth=2)\n",
    "plt.xlabel(\"Argent dépensé ($)\")\n",
    "plt.ylabel(\"Ventes ($)\")\n",
    "plt.show()"
   ]
  },
  {
   "cell_type": "markdown",
   "metadata": {},
   "source": [
    "### <a id='toc3_1_3_'></a>[k-Nearest Neighbors (k-NN)](#toc0_)\n",
    "   - **Principes de fonctionnement**\n",
    "     - Le k-NN classe un point d'entrée en fonction de la majorité des classes parmi ses k voisins les plus proches dans l'espace des caractéristiques."
   ]
  },
  {
   "cell_type": "code",
   "execution_count": 12,
   "metadata": {},
   "outputs": [
    {
     "data": {
      "text/html": [
       "<div>\n",
       "<style scoped>\n",
       "    .dataframe tbody tr th:only-of-type {\n",
       "        vertical-align: middle;\n",
       "    }\n",
       "\n",
       "    .dataframe tbody tr th {\n",
       "        vertical-align: top;\n",
       "    }\n",
       "\n",
       "    .dataframe thead th {\n",
       "        text-align: right;\n",
       "    }\n",
       "</style>\n",
       "<table border=\"1\" class=\"dataframe\">\n",
       "  <thead>\n",
       "    <tr style=\"text-align: right;\">\n",
       "      <th></th>\n",
       "      <th>Id</th>\n",
       "      <th>SepalLengthCm</th>\n",
       "      <th>SepalWidthCm</th>\n",
       "      <th>PetalLengthCm</th>\n",
       "      <th>PetalWidthCm</th>\n",
       "      <th>Species</th>\n",
       "    </tr>\n",
       "  </thead>\n",
       "  <tbody>\n",
       "    <tr>\n",
       "      <th>0</th>\n",
       "      <td>1</td>\n",
       "      <td>5.1</td>\n",
       "      <td>3.5</td>\n",
       "      <td>1.4</td>\n",
       "      <td>0.2</td>\n",
       "      <td>Iris-setosa</td>\n",
       "    </tr>\n",
       "    <tr>\n",
       "      <th>1</th>\n",
       "      <td>2</td>\n",
       "      <td>4.9</td>\n",
       "      <td>3.0</td>\n",
       "      <td>1.4</td>\n",
       "      <td>0.2</td>\n",
       "      <td>Iris-setosa</td>\n",
       "    </tr>\n",
       "    <tr>\n",
       "      <th>2</th>\n",
       "      <td>3</td>\n",
       "      <td>4.7</td>\n",
       "      <td>3.2</td>\n",
       "      <td>1.3</td>\n",
       "      <td>0.2</td>\n",
       "      <td>Iris-setosa</td>\n",
       "    </tr>\n",
       "    <tr>\n",
       "      <th>3</th>\n",
       "      <td>4</td>\n",
       "      <td>4.6</td>\n",
       "      <td>3.1</td>\n",
       "      <td>1.5</td>\n",
       "      <td>0.2</td>\n",
       "      <td>Iris-setosa</td>\n",
       "    </tr>\n",
       "    <tr>\n",
       "      <th>4</th>\n",
       "      <td>5</td>\n",
       "      <td>5.0</td>\n",
       "      <td>3.6</td>\n",
       "      <td>1.4</td>\n",
       "      <td>0.2</td>\n",
       "      <td>Iris-setosa</td>\n",
       "    </tr>\n",
       "  </tbody>\n",
       "</table>\n",
       "</div>"
      ],
      "text/plain": [
       "   Id  SepalLengthCm  SepalWidthCm  PetalLengthCm  PetalWidthCm      Species\n",
       "0   1            5.1           3.5            1.4           0.2  Iris-setosa\n",
       "1   2            4.9           3.0            1.4           0.2  Iris-setosa\n",
       "2   3            4.7           3.2            1.3           0.2  Iris-setosa\n",
       "3   4            4.6           3.1            1.5           0.2  Iris-setosa\n",
       "4   5            5.0           3.6            1.4           0.2  Iris-setosa"
      ]
     },
     "execution_count": 12,
     "metadata": {},
     "output_type": "execute_result"
    }
   ],
   "source": [
    "dataset = pd.read_csv('data/Iris.csv')\n",
    "names = ['sepal-length', 'sepal-width', 'petal-length', 'petal-width', 'Class']\n",
    "\n",
    "dataset.head()"
   ]
  },
  {
   "cell_type": "code",
   "execution_count": 30,
   "metadata": {},
   "outputs": [
    {
     "name": "stdout",
     "output_type": "stream",
     "text": [
      "(120, 5)\n"
     ]
    }
   ],
   "source": [
    "X = dataset.iloc[:, :-1].values\n",
    "y = dataset.iloc[:, 4].values\n",
    "\n",
    "X_train, X_test, y_train, y_test = train_test_split(X, y, test_size=0.20)\n",
    "\n",
    "scaler = StandardScaler()\n",
    "scaler.fit(X_train)\n",
    "X_train = scaler.transform(X_train)\n",
    "X_test = scaler.transform(X_test)\n",
    "\n",
    "classifier = KNeighborsClassifier(n_neighbors=5)\n",
    "print(X_train.shape)\n",
    "#classifier.fit(X_train,y_train)\n",
    "\n",
    "#y_pred = classifier.predict(X_test)\n",
    "#print(classification_report(y_test,y_pred))\n",
    "#print(confusion_matrix(y_test,y_pred))\n",
    "\n"
   ]
  },
  {
   "cell_type": "markdown",
   "metadata": {},
   "source": [
    "## <a id='toc3_2_'></a>[B. Non supervisé](#toc0_)\n",
    "\n",
    "### <a id='toc3_2_1_'></a>[K-means](#toc0_)\n",
    "   - **Principes de fonctionnement**\n",
    "     - K-means partitionne les données en k clusters en minimisant la variance intra-cluster et en maximisant la variance inter-cluster."
   ]
  },
  {
   "cell_type": "code",
   "execution_count": null,
   "metadata": {},
   "outputs": [],
   "source": []
  },
  {
   "cell_type": "markdown",
   "metadata": {},
   "source": [
    "### <a id='toc3_2_2_'></a>[Analyse en composantes principales (ACP)](#toc0_)\n",
    "   - **Principes de fonctionnement**\n",
    "     - L'ACP réduit la dimension des données en projetant celles-ci dans un nouvel espace défini par les composantes principales, qui capturent le maximum de variance."
   ]
  },
  {
   "cell_type": "code",
   "execution_count": null,
   "metadata": {},
   "outputs": [],
   "source": []
  },
  {
   "cell_type": "markdown",
   "metadata": {},
   "source": [
    "## <a id='toc3_3_'></a>[C. Par renforcement](#toc0_)\n",
    "\n",
    "### <a id='toc3_3_1_'></a>[Q-learning](#toc0_)\n",
    "   - **Principes de fonctionnement**\n",
    "     - Q-learning est un algorithme d'apprentissage par renforcement qui apprend à prendre des actions en fonction des récompenses passées, en utilisant une fonction Q pour estimer la valeur des actions.\n"
   ]
  },
  {
   "cell_type": "code",
   "execution_count": null,
   "metadata": {},
   "outputs": [],
   "source": []
  },
  {
   "cell_type": "markdown",
   "metadata": {},
   "source": [
    "### <a id='toc3_3_2_'></a>[Deep Deterministic Policy Gradients (DDPG)](#toc0_)\n",
    "   - **Principes de fonctionnement**\n",
    "     - DDPG est une méthode qui combine des éléments du deep learning avec l'apprentissage par renforcement pour traiter des problèmes de contrôle continu avec des espaces d'actions continus."
   ]
  },
  {
   "cell_type": "code",
   "execution_count": null,
   "metadata": {},
   "outputs": [],
   "source": []
  },
  {
   "cell_type": "markdown",
   "metadata": {},
   "source": [
    "#Conclusion \n"
   ]
  }
 ],
 "metadata": {
  "kernelspec": {
   "display_name": "Python 3",
   "language": "python",
   "name": "python3"
  },
  "language_info": {
   "codemirror_mode": {
    "name": "ipython",
    "version": 3
   },
   "file_extension": ".py",
   "mimetype": "text/x-python",
   "name": "python",
   "nbconvert_exporter": "python",
   "pygments_lexer": "ipython3",
   "version": "3.11.6"
  }
 },
 "nbformat": 4,
 "nbformat_minor": 2
}
