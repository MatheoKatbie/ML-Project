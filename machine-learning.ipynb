{
 "cells": [
  {
   "cell_type": "markdown",
   "metadata": {},
   "source": [
    "# <a id='toc1_'></a>[Projet Machine Learning avec Scikit-Learn](#toc0_)\n",
    "\n",
    "## <a id='toc1_1_'></a>[I. Introduction](#toc0_)\n",
    "   - Définition du machine learning et son rôle au sein de l'intelligence artificielle\n",
    "   - Importance de la création de modèles pour représenter des phénomènes réels\n",
    "\n",
    "## <a id='toc1_2_'></a>[II. Types d'apprentissage en Machine Learning](#toc0_)\n",
    "   - Apprentissage supervisé \n",
    "      - Définition \n",
    "      - Exemples d'applications \n",
    "      - Algorithmes associés (e.g., régression linéaire, SVM, k-NN) \n",
    "\n",
    "   - Apprentissage non supervisé\n",
    "      - Définition\n",
    "      - Exemples d'applications\n",
    "      - Algorithmes associés (e.g., k-means, ACP, DBSCAN)\n",
    "\n",
    "   - Apprentissage par renforcement\n",
    "      - Définition\n",
    "      - Exemples d'applications\n",
    "      - Algorithmes associés (e.g., Q-learning, DDPG)\n",
    "\n",
    "## <a id='toc1_3_'></a>[III. Algorithmes associés à chaque type d'apprentissage](#toc0_)\n",
    "   - Supervisé\n",
    "      - Régression linéaire\n",
    "         - Principes de fonctionnement\n",
    "         - Utilisation pratique avec scikit-learn\n",
    "      - Support Vector Machines (SVM)\n",
    "         - Principes de fonctionnement\n",
    "         - Utilisation pratique avec scikit-learn\n",
    "      - k-Nearest Neighbors (k-NN)\n",
    "         - Principes de fonctionnement\n",
    "         - Utilisation pratique avec scikit-learn\n",
    "\n",
    "   - Non supervisé\n",
    "      - K-means\n",
    "         - Principes de fonctionnement\n",
    "         - Utilisation pratique avec scikit-learn\n",
    "      - Analyse en composantes principales (ACP)\n",
    "         - Principes de fonctionnement\n",
    "         - Utilisation pratique avec scikit-learn\n",
    "      - DBSCAN\n",
    "         - Principes de fonctionnement\n",
    "         - Utilisation pratique avec scikit-learn\n",
    "\n",
    "   - Par renforcement\n",
    "      - Q-learning\n",
    "         - Principes de fonctionnement\n",
    "         - Utilisation pratique avec scikit-learn\n",
    "      - Deep Deterministic Policy Gradients (DDPG)\n",
    "         - Principes de fonctionnement\n",
    "         - Utilisation pratique avec scikit-learn\n",
    "\n",
    "## <a id='toc1_4_'></a>[IV. Conclusion](#toc0_)\n",
    "   - Récapitulation des types d'apprentissage et des algorithmes\n",
    "   -  Mise en avant des applications concrètes avec scikit-learn\n",
    "   - Perspectives futures et évolutions du domaine du machine learning.\n"
   ]
  },
  {
   "cell_type": "markdown",
   "metadata": {},
   "source": [
    "\n",
    "------------"
   ]
  },
  {
   "cell_type": "markdown",
   "metadata": {},
   "source": [
    "**Table of contents**<a id='toc0_'></a>    \n",
    "- [Projet Machine Learning avec Scikit-Learn](#toc1_)    \n",
    "  - [I. Introduction](#toc1_1_)    \n",
    "  - [II. Types d'apprentissage en Machine Learning](#toc1_2_)    \n",
    "  - [III. Algorithmes associés à chaque type d'apprentissage](#toc1_3_)    \n",
    "  - [IV. Conclusion](#toc1_4_)    \n",
    "  - [Sommaire](#toc1_5_)    \n",
    "  - [I. Introduction](#toc1_6_)    \n",
    "  - [A. Définition du machine learning et son rôle dans l'intelligence artificielle](#toc1_7_)    \n",
    "  - [B. Importance de la création de modèles pour représenter des phénomènes réels](#toc1_8_)    \n",
    "- [II. Types d'apprentissage en Machine Learning](#toc2_)    \n",
    "  - [A. Apprentissage supervisé](#toc2_1_)    \n",
    "  - [B. Apprentissage non supervisé](#toc2_2_)    \n",
    "  - [C. Apprentissage par renforcement](#toc2_3_)    \n",
    "- [III. Algorithmes associés à chaque type d'apprentissage](#toc3_)    \n",
    "  - [A. Supervisé](#toc3_1_)    \n",
    "    - [Régression linéaire](#toc3_1_1_)    \n",
    "    - [Support Vector Machines (SVM)](#toc3_1_2_)    \n",
    "    - [k-Nearest Neighbors (k-NN)](#toc3_1_3_)    \n",
    "  - [B. Non supervisé](#toc3_2_)    \n",
    "    - [K-means](#toc3_2_1_)    \n",
    "    - [Analyse en composantes principales (ACP)](#toc3_2_2_)    \n",
    "    - [DBSCAN](#toc3_2_3_)    \n",
    "  - [C. Par renforcement](#toc3_3_)    \n",
    "    - [Q-learning](#toc3_3_1_)    \n",
    "    - [Deep Deterministic Policy Gradients (DDPG)](#toc3_3_2_)    \n",
    "\n",
    "<!-- vscode-jupyter-toc-config\n",
    "\tnumbering=false\n",
    "\tanchor=true\n",
    "\tflat=false\n",
    "\tminLevel=1\n",
    "\tmaxLevel=6\n",
    "\t/vscode-jupyter-toc-config -->\n",
    "<!-- THIS CELL WILL BE REPLACED ON TOC UPDATE. DO NOT WRITE YOUR TEXT IN THIS CELL -->"
   ]
  },
  {
   "cell_type": "markdown",
   "metadata": {},
   "source": [
    "## <a id='toc1_5_'></a>[Sommaire](#toc0_)\n"
   ]
  },
  {
   "cell_type": "markdown",
   "metadata": {},
   "source": [
    "## <a id='toc1_6_'></a>[I. Introduction](#toc0_)\n",
    "\n",
    "## <a id='toc1_7_'></a>[A. Définition du machine learning et son rôle dans l'intelligence artificielle](#toc0_)\n",
    "\n",
    "Le machine learning, ou apprentissage automatique, est un domaine de l'intelligence artificielle qui vise à développer des algorithmes capables d'apprendre à partir de données. Le machine learning permet de prédire de nouvelles données à partir de données qui lui sont donnés.\n",
    "\n",
    "## <a id='toc1_8_'></a>[B. Importance de la création de modèles pour représenter des phénomènes réels](#toc0_)\n",
    "\n",
    "La création de modèles est au cœur du machine learning. Ces modèles sont des représentations abstraites de phénomènes réels, et leur construction repose sur la capacité des algorithmes à généraliser à partir de données d'entraînement. La qualité des modèles influencera directement la précision et l'efficacité des prédictions ou des classifications effectuées par ces systèmes."
   ]
  },
  {
   "cell_type": "markdown",
   "metadata": {},
   "source": [
    "# <a id='toc2_'></a>[II. Types d'apprentissage en Machine Learning](#toc0_)\n",
    "\n",
    "## <a id='toc2_1_'></a>[A. Apprentissage supervisé](#toc0_)\n",
    "   1. **Définition**\n",
    "      - L'apprentissage supervisé s'inspire des expériences précédentes pour recueillir ou produire des sorties de données.\n",
    "   2. **Exemples d'applications**\n",
    "      - Classification d'images, prédiction de prix, détection de spam.\n",
    "   3. **Algorithmes associés**\n",
    "      - Régression linéaire, Support Vector Machines (SVM), k-Nearest Neighbors (k-NN).\n",
    "\n",
    "## <a id='toc2_2_'></a>[B. Apprentissage non supervisé](#toc0_)\n",
    "   1. **Définition**\n",
    "      - L'apprentissage non supervisé consiste à analyser des données sans étiquettes pour découvrir des modèles ou des structures.\n",
    "   2. **Exemples d'applications**\n",
    "      - Regroupement de clients, réduction de dimension, détection d'anomalies.\n",
    "   3. **Algorithmes associés**\n",
    "      - K-means, Analyse en composantes principales (ACP), DBSCAN.\n",
    "\n",
    "## <a id='toc2_3_'></a>[C. Apprentissage par renforcement](#toc0_)\n",
    "   1. **Définition**\n",
    "      - L'apprentissage par renforcement implique un agent qui prend des actions dans un environnement pour maximiser une récompense cumulée.\n",
    "   2. **Exemples d'applications**\n",
    "      - Jeux, robotique, recommandation de contenus.\n",
    "   3. **Algorithmes associés**\n",
    "      - Q-learning, Deep Deterministic Policy Gradients (DDPG).\n"
   ]
  },
  {
   "cell_type": "markdown",
   "metadata": {},
   "source": [
    "# <a id='toc3_'></a>[III. Algorithmes associés à chaque type d'apprentissage](#toc0_)\n",
    "\n",
    "## <a id='toc3_1_'></a>[A. Supervisé](#toc0_)\n",
    "\n",
    "### <a id='toc3_1_1_'></a>[Régression linéaire](#toc0_)\n",
    "   - **Principes de fonctionnement**\n",
    "     - La régression linéaire cherche à établir une relation linéaire entre la variable dépendante et les variables indépendantes en ajustant une ligne (ou un plan) aux données."
   ]
  },
  {
   "cell_type": "code",
   "execution_count": null,
   "metadata": {},
   "outputs": [],
   "source": []
  },
  {
   "cell_type": "markdown",
   "metadata": {},
   "source": [
    "### <a id='toc3_1_2_'></a>[Support Vector Machines (SVM)](#toc0_)\n",
    "   - **Principes de fonctionnement**\n",
    "     - Les SVM cherchent à trouver un hyperplan optimal qui sépare les différentes classes dans l'espace des caractéristiques de manière maximale."
   ]
  },
  {
   "cell_type": "code",
   "execution_count": null,
   "metadata": {},
   "outputs": [],
   "source": []
  },
  {
   "cell_type": "markdown",
   "metadata": {},
   "source": [
    "### <a id='toc3_1_3_'></a>[k-Nearest Neighbors (k-NN)](#toc0_)\n",
    "   - **Principes de fonctionnement**\n",
    "     - Le k-NN classe un point d'entrée en fonction de la majorité des classes parmi ses k voisins les plus proches dans l'espace des caractéristiques."
   ]
  },
  {
   "cell_type": "code",
   "execution_count": null,
   "metadata": {},
   "outputs": [],
   "source": []
  },
  {
   "cell_type": "markdown",
   "metadata": {},
   "source": [
    "## <a id='toc3_2_'></a>[B. Non supervisé](#toc0_)\n",
    "\n",
    "### <a id='toc3_2_1_'></a>[K-means](#toc0_)\n",
    "   - **Principes de fonctionnement**\n",
    "     - K-means partitionne les données en k clusters en minimisant la variance intra-cluster et en maximisant la variance inter-cluster."
   ]
  },
  {
   "cell_type": "code",
   "execution_count": null,
   "metadata": {},
   "outputs": [],
   "source": []
  },
  {
   "cell_type": "markdown",
   "metadata": {},
   "source": [
    "### <a id='toc3_2_2_'></a>[Analyse en composantes principales (ACP)](#toc0_)\n",
    "   - **Principes de fonctionnement**\n",
    "     - L'ACP réduit la dimension des données en projetant celles-ci dans un nouvel espace défini par les composantes principales, qui capturent le maximum de variance."
   ]
  },
  {
   "cell_type": "code",
   "execution_count": null,
   "metadata": {},
   "outputs": [],
   "source": []
  },
  {
   "cell_type": "markdown",
   "metadata": {},
   "source": [
    "### <a id='toc3_2_3_'></a>[DBSCAN](#toc0_)\n",
    "   - **Principes de fonctionnement**\n",
    "     - DBSCAN identifie des clusters basés sur la densité des points, permettant de détecter des formes arbitraires dans les données."
   ]
  },
  {
   "cell_type": "code",
   "execution_count": null,
   "metadata": {},
   "outputs": [],
   "source": []
  },
  {
   "cell_type": "markdown",
   "metadata": {},
   "source": [
    "## <a id='toc3_3_'></a>[C. Par renforcement](#toc0_)\n",
    "\n",
    "### <a id='toc3_3_1_'></a>[Q-learning](#toc0_)\n",
    "   - **Principes de fonctionnement**\n",
    "     - Q-learning est un algorithme d'apprentissage par renforcement qui apprend à prendre des actions en fonction des récompenses passées, en utilisant une fonction Q pour estimer la valeur des actions.\n"
   ]
  },
  {
   "cell_type": "code",
   "execution_count": null,
   "metadata": {},
   "outputs": [],
   "source": []
  },
  {
   "cell_type": "markdown",
   "metadata": {},
   "source": [
    "### <a id='toc3_3_2_'></a>[Deep Deterministic Policy Gradients (DDPG)](#toc0_)\n",
    "   - **Principes de fonctionnement**\n",
    "     - DDPG est une méthode qui combine des éléments du deep learning avec l'apprentissage par renforcement pour traiter des problèmes de contrôle continu avec des espaces d'actions continus."
   ]
  },
  {
   "cell_type": "code",
   "execution_count": null,
   "metadata": {},
   "outputs": [],
   "source": []
  }
 ],
 "metadata": {
  "language_info": {
   "name": "python"
  }
 },
 "nbformat": 4,
 "nbformat_minor": 2
}
